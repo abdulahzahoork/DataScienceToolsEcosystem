{
 "cells": [
  {
   "cell_type": "markdown",
   "id": "97f6f1b0-0f5e-4258-966f-64e2aa446071",
   "metadata": {},
   "source": [
    "# Data Science Tools and Ecosystem"
   ]
  },
  {
   "cell_type": "markdown",
   "id": "5c6fb7ac-e59d-479e-9dc1-3672ca2f80dd",
   "metadata": {},
   "source": [
    "In this notebook, Data Science Tools and Ecosystem are summarized."
   ]
  },
  {
   "cell_type": "markdown",
   "id": "14cde829-ed08-4877-b0e8-398fd19f422b",
   "metadata": {},
   "source": [
    "**Objectives:**\n",
    "- List popular languages used in Data Science.\n",
    "- Identify commonly used Data Science libraries.\n",
    "- Describe open source Data Science tools and development environment.\n",
    "- Demonstrate the use of arithmetic expressions in Python.\n",
    "- Convert between different units of time using Python."
   ]
  },
  {
   "cell_type": "markdown",
   "id": "28a7ac45-08cb-4ef1-8066-1eb6204be4d5",
   "metadata": {},
   "source": [
    "Some of the popular languages that Data Scientists use are:\n",
    "1. Python\n",
    "2. R\n",
    "3. SQL"
   ]
  },
  {
   "cell_type": "markdown",
   "id": "b95489e9-29f6-4b7f-a578-114ed87fee01",
   "metadata": {},
   "source": [
    "Some of the commonly used libraries used by Data Scientists include:\n",
    "1. NumPy\n",
    "2. Pandas\n",
    "3. Matplotlib"
   ]
  },
  {
   "cell_type": "markdown",
   "id": "7d2652a2-a4d6-45e7-bad9-5d7a10f15497",
   "metadata": {},
   "source": [
    "|Data Science Tools|\n",
    "|------------------|\n",
    "|Jupyter Notebooks/Jupyter Lab|\n",
    "|RStudio|\n",
    "|Visual Studio Code (VS Code)|"
   ]
  },
  {
   "cell_type": "markdown",
   "id": "c223acab-b7d7-4b49-a6ed-f526bcfe4423",
   "metadata": {},
   "source": [
    "### Below are a few examples of evaluating arithmetic expressions in Python."
   ]
  },
  {
   "cell_type": "code",
   "execution_count": 1,
   "id": "04079752-2e2b-457e-86cd-cbbebf7201c4",
   "metadata": {},
   "outputs": [
    {
     "data": {
      "text/plain": [
       "17"
      ]
     },
     "execution_count": 1,
     "metadata": {},
     "output_type": "execute_result"
    }
   ],
   "source": [
    "# This is a simple arithmetic expression to multiply and then add integers.\n",
    "(3*4)+5"
   ]
  },
  {
   "cell_type": "code",
   "execution_count": 2,
   "id": "2289ecc0-0d0e-4958-8346-1368328ccd73",
   "metadata": {},
   "outputs": [
    {
     "data": {
      "text/plain": [
       "3.3333333333333335"
      ]
     },
     "execution_count": 2,
     "metadata": {},
     "output_type": "execute_result"
    }
   ],
   "source": [
    "# This will convert 200 minutes to hours by dividing by 60.\n",
    "200/60"
   ]
  },
  {
   "cell_type": "markdown",
   "id": "71a622eb-da0f-45c3-9859-d249b44b9996",
   "metadata": {},
   "source": [
    "## Author\n",
    "Muhammad Abdullah Khan"
   ]
  }
 ],
 "metadata": {
  "kernelspec": {
   "display_name": "Python 3 (ipykernel)",
   "language": "python",
   "name": "python3"
  },
  "language_info": {
   "codemirror_mode": {
    "name": "ipython",
    "version": 3
   },
   "file_extension": ".py",
   "mimetype": "text/x-python",
   "name": "python",
   "nbconvert_exporter": "python",
   "pygments_lexer": "ipython3",
   "version": "3.13.0"
  }
 },
 "nbformat": 4,
 "nbformat_minor": 5
}
